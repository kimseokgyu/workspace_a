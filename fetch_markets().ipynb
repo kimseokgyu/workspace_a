{
 "cells": [
  {
   "cell_type": "code",
   "execution_count": 1,
   "id": "unexpected-december",
   "metadata": {},
   "outputs": [],
   "source": [
    "import ccxt"
   ]
  },
  {
   "cell_type": "code",
   "execution_count": 2,
   "id": "genetic-hours",
   "metadata": {},
   "outputs": [],
   "source": [
    "binance = ccxt.binance(\n",
    "        {\n",
    "            \"apiKey\": \"****************************************************************\",\n",
    "            \"secret\": \"****************************************************************\",\n",
    "            \"enableRateLimit\": True,\n",
    "            \"options\": {\"defaultType\": \"future\"},  # spot, margin, future \n",
    "        }\n",
    "    )"
   ]
  },
  {
   "cell_type": "code",
   "execution_count": 10,
   "id": "overall-fellowship",
   "metadata": {},
   "outputs": [],
   "source": [
    "market = binance.fetch_markets()"
   ]
  },
  {
   "cell_type": "markdown",
   "id": "difficult-louisiana",
   "metadata": {},
   "source": [
    "##### BASE"
   ]
  },
  {
   "cell_type": "code",
   "execution_count": 6,
   "id": "focal-preference",
   "metadata": {},
   "outputs": [
    {
     "data": {
      "text/plain": [
       "'BTC'"
      ]
     },
     "execution_count": 6,
     "metadata": {},
     "output_type": "execute_result"
    }
   ],
   "source": [
    "market[0]['base']"
   ]
  },
  {
   "cell_type": "markdown",
   "id": "african-extent",
   "metadata": {},
   "source": [
    "##### Amount Min"
   ]
  },
  {
   "cell_type": "code",
   "execution_count": 7,
   "id": "adopted-impact",
   "metadata": {},
   "outputs": [
    {
     "data": {
      "text/plain": [
       "0.001"
      ]
     },
     "execution_count": 7,
     "metadata": {},
     "output_type": "execute_result"
    }
   ],
   "source": [
    "market[0][\"limits\"][\"amount\"][\"min\"]"
   ]
  },
  {
   "cell_type": "markdown",
   "id": "recent-helicopter",
   "metadata": {},
   "source": [
    "##### amountPrecision"
   ]
  },
  {
   "cell_type": "code",
   "execution_count": 8,
   "id": "brazilian-thanksgiving",
   "metadata": {},
   "outputs": [
    {
     "data": {
      "text/plain": [
       "3"
      ]
     },
     "execution_count": 8,
     "metadata": {},
     "output_type": "execute_result"
    }
   ],
   "source": [
    "market[0][\"precision\"][\"amount\"]"
   ]
  },
  {
   "cell_type": "markdown",
   "id": "forward-understanding",
   "metadata": {},
   "source": [
    "##### priceMin"
   ]
  },
  {
   "cell_type": "code",
   "execution_count": 9,
   "id": "attractive-galaxy",
   "metadata": {},
   "outputs": [
    {
     "data": {
      "text/plain": [
       "2"
      ]
     },
     "execution_count": 9,
     "metadata": {},
     "output_type": "execute_result"
    }
   ],
   "source": [
    "market[0][\"precision\"][\"price\"]"
   ]
  },
  {
   "cell_type": "code",
   "execution_count": 11,
   "id": "quarterly-console",
   "metadata": {},
   "outputs": [
    {
     "data": {
      "text/plain": [
       "{'id': 'BTCUSDT',\n",
       " 'lowercaseId': 'btcusdt',\n",
       " 'symbol': 'BTC/USDT',\n",
       " 'base': 'BTC',\n",
       " 'quote': 'USDT',\n",
       " 'baseId': 'BTC',\n",
       " 'quoteId': 'USDT',\n",
       " 'info': {'symbol': 'BTCUSDT',\n",
       "  'pair': 'BTCUSDT',\n",
       "  'contractType': 'PERPETUAL',\n",
       "  'deliveryDate': 4133404800000,\n",
       "  'onboardDate': 1569398400000,\n",
       "  'status': 'TRADING',\n",
       "  'maintMarginPercent': '2.5000',\n",
       "  'requiredMarginPercent': '5.0000',\n",
       "  'baseAsset': 'BTC',\n",
       "  'quoteAsset': 'USDT',\n",
       "  'marginAsset': 'USDT',\n",
       "  'pricePrecision': 2,\n",
       "  'quantityPrecision': 3,\n",
       "  'baseAssetPrecision': 8,\n",
       "  'quotePrecision': 8,\n",
       "  'underlyingType': 'COIN',\n",
       "  'underlyingSubType': [],\n",
       "  'settlePlan': 0,\n",
       "  'triggerProtect': '0.0500',\n",
       "  'filters': [{'minPrice': '0.01',\n",
       "    'maxPrice': '1000000',\n",
       "    'filterType': 'PRICE_FILTER',\n",
       "    'tickSize': '0.01'},\n",
       "   {'stepSize': '0.001',\n",
       "    'filterType': 'LOT_SIZE',\n",
       "    'maxQty': '1000',\n",
       "    'minQty': '0.001'},\n",
       "   {'stepSize': '0.001',\n",
       "    'filterType': 'MARKET_LOT_SIZE',\n",
       "    'maxQty': '1000',\n",
       "    'minQty': '0.001'},\n",
       "   {'limit': 200, 'filterType': 'MAX_NUM_ORDERS'},\n",
       "   {'limit': 100, 'filterType': 'MAX_NUM_ALGO_ORDERS'},\n",
       "   {'notional': '1', 'filterType': 'MIN_NOTIONAL'},\n",
       "   {'multiplierDown': '0.8500',\n",
       "    'multiplierUp': '1.1500',\n",
       "    'multiplierDecimal': '4',\n",
       "    'filterType': 'PERCENT_PRICE'}],\n",
       "  'orderTypes': ['LIMIT',\n",
       "   'MARKET',\n",
       "   'STOP',\n",
       "   'STOP_MARKET',\n",
       "   'TAKE_PROFIT',\n",
       "   'TAKE_PROFIT_MARKET',\n",
       "   'TRAILING_STOP_MARKET'],\n",
       "  'timeInForce': ['GTC', 'IOC', 'FOK', 'GTX']},\n",
       " 'type': 'future',\n",
       " 'spot': False,\n",
       " 'margin': True,\n",
       " 'future': True,\n",
       " 'delivery': False,\n",
       " 'active': True,\n",
       " 'precision': {'base': 8, 'quote': 8, 'amount': 3, 'price': 2},\n",
       " 'limits': {'amount': {'min': 0.001, 'max': 1000.0},\n",
       "  'price': {'min': 0.01, 'max': 1000000.0},\n",
       "  'cost': {'min': 1.0, 'max': None},\n",
       "  'market': {'min': 0.001, 'max': 1000.0}}}"
      ]
     },
     "execution_count": 11,
     "metadata": {},
     "output_type": "execute_result"
    }
   ],
   "source": [
    "market[0]"
   ]
  },
  {
   "cell_type": "code",
   "execution_count": null,
   "id": "successful-rehabilitation",
   "metadata": {},
   "outputs": [],
   "source": []
  }
 ],
 "metadata": {
  "kernelspec": {
   "display_name": "Python 3",
   "language": "python",
   "name": "python3"
  },
  "language_info": {
   "codemirror_mode": {
    "name": "ipython",
    "version": 3
   },
   "file_extension": ".py",
   "mimetype": "text/x-python",
   "name": "python",
   "nbconvert_exporter": "python",
   "pygments_lexer": "ipython3",
   "version": "3.7.9"
  }
 },
 "nbformat": 4,
 "nbformat_minor": 5
}

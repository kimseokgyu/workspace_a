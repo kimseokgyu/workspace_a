{
 "cells": [
  {
   "cell_type": "code",
   "execution_count": 1,
   "id": "ceramic-generator",
   "metadata": {},
   "outputs": [],
   "source": [
    "from datetime import datetime, timedelta, time"
   ]
  },
  {
   "cell_type": "markdown",
   "id": "developing-steam",
   "metadata": {},
   "source": [
    "#### Test"
   ]
  },
  {
   "cell_type": "code",
   "execution_count": 23,
   "id": "visible-consensus",
   "metadata": {},
   "outputs": [
    {
     "name": "stdout",
     "output_type": "stream",
     "text": [
      "testNowDateTime = 2021-02-16 00:30:00\n",
      "   2021-02-15 23:00:00\n",
      "testNowDateTime = 2021-02-16 01:30:00\n",
      "   2021-02-16 01:00:00\n",
      "testNowDateTime = 2021-02-16 02:30:00\n",
      "   2021-02-16 01:00:00\n",
      "testNowDateTime = 2021-02-16 03:30:00\n",
      "   2021-02-16 03:00:00\n",
      "testNowDateTime = 2021-02-16 04:30:00\n",
      "   2021-02-16 03:00:00\n",
      "testNowDateTime = 2021-02-16 05:30:00\n",
      "   2021-02-16 05:00:00\n",
      "testNowDateTime = 2021-02-16 06:30:00\n",
      "   2021-02-16 05:00:00\n",
      "testNowDateTime = 2021-02-16 07:30:00\n",
      "   2021-02-16 07:00:00\n",
      "testNowDateTime = 2021-02-16 08:30:00\n",
      "   2021-02-16 07:00:00\n",
      "testNowDateTime = 2021-02-16 09:30:00\n",
      "   2021-02-16 09:00:00\n",
      "testNowDateTime = 2021-02-16 10:30:00\n",
      "   2021-02-16 09:00:00\n",
      "testNowDateTime = 2021-02-16 11:30:00\n",
      "   2021-02-16 11:00:00\n",
      "testNowDateTime = 2021-02-16 12:30:00\n",
      "   2021-02-16 11:00:00\n",
      "testNowDateTime = 2021-02-16 13:30:00\n",
      "   2021-02-16 13:00:00\n",
      "testNowDateTime = 2021-02-16 14:30:00\n",
      "   2021-02-16 13:00:00\n",
      "testNowDateTime = 2021-02-16 15:30:00\n",
      "   2021-02-16 15:00:00\n",
      "testNowDateTime = 2021-02-16 16:30:00\n",
      "   2021-02-16 15:00:00\n",
      "testNowDateTime = 2021-02-16 17:30:00\n",
      "   2021-02-16 17:00:00\n",
      "testNowDateTime = 2021-02-16 18:30:00\n",
      "   2021-02-16 17:00:00\n",
      "testNowDateTime = 2021-02-16 19:30:00\n",
      "   2021-02-16 19:00:00\n",
      "testNowDateTime = 2021-02-16 20:30:00\n",
      "   2021-02-16 19:00:00\n",
      "testNowDateTime = 2021-02-16 21:30:00\n",
      "   2021-02-16 21:00:00\n",
      "testNowDateTime = 2021-02-16 22:30:00\n",
      "   2021-02-16 21:00:00\n",
      "testNowDateTime = 2021-02-16 23:30:00\n",
      "   2021-02-16 23:00:00\n"
     ]
    }
   ],
   "source": [
    "for varT in range(0, 24):\n",
    "        testNowDateTime = datetime(2021, 2, 16, varT, 30, 00)\n",
    "        print(\"testNowDateTime =\", testNowDateTime)\n",
    "\n",
    "        for i in range(0, 2):\n",
    "            testNowDateTime = datetime(2021, 2, 16, varT, 30, 00) - timedelta(hours=i)\n",
    "            tempH = int(testNowDateTime.strftime(\"%H\"))\n",
    "            # print(\"  tempH =\", tempH)\n",
    "\n",
    "            for idx in range(23, -1, -2):\n",
    "                if tempH == idx:\n",
    "                    lastStartTime = datetime(testNowDateTime.year, testNowDateTime.month, testNowDateTime.day, idx, 0, 0)\n",
    "                    print(\"  \", lastStartTime)\n",
    "                    break"
   ]
  },
  {
   "cell_type": "markdown",
   "id": "medical-stanley",
   "metadata": {},
   "source": [
    "#### Final"
   ]
  },
  {
   "cell_type": "code",
   "execution_count": 24,
   "id": "plain-memorial",
   "metadata": {},
   "outputs": [
    {
     "name": "stdout",
     "output_type": "stream",
     "text": [
      "2021-02-16 22:31:15.692305      Now\n",
      "2021-02-16 21:00:00             LastStartTime\n"
     ]
    }
   ],
   "source": [
    "TimeNow = datetime.now()\n",
    "\n",
    "print(TimeNow,\"     Now\" )\n",
    "\n",
    "for i in range(0, 2):\n",
    "        testNowDateTime = TimeNow - timedelta(hours=i)\n",
    "        tempH = int(testNowDateTime.strftime(\"%H\"))\n",
    "\n",
    "        for idx in range(23, -1, -2):\n",
    "            if tempH == idx:\n",
    "                lastStartTime = datetime(testNowDateTime.year, testNowDateTime.month, testNowDateTime.day, idx, 0, 0)\n",
    "                print(lastStartTime,\"            LastStartTime\")\n",
    "                break"
   ]
  },
  {
   "cell_type": "code",
   "execution_count": null,
   "id": "seasonal-judge",
   "metadata": {},
   "outputs": [],
   "source": []
  }
 ],
 "metadata": {
  "kernelspec": {
   "display_name": "Python 3",
   "language": "python",
   "name": "python3"
  },
  "language_info": {
   "codemirror_mode": {
    "name": "ipython",
    "version": 3
   },
   "file_extension": ".py",
   "mimetype": "text/x-python",
   "name": "python",
   "nbconvert_exporter": "python",
   "pygments_lexer": "ipython3",
   "version": "3.7.9"
  }
 },
 "nbformat": 4,
 "nbformat_minor": 5
}

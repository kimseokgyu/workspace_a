{
 "cells": [
  {
   "cell_type": "code",
   "execution_count": 1,
   "id": "guilty-change",
   "metadata": {},
   "outputs": [],
   "source": [
    "import ccxt\n",
    "from datetime import datetime, timedelta\n",
    "\n",
    "binance = ccxt.binance(\n",
    "    {\n",
    "        \"apiKey\": \"******** \",\n",
    "        \"secret\": \"********\",\n",
    "        \"options\": {\"defaultType\": \"future\"},  # spot, margin, future 선택\n",
    "    }\n",
    ")"
   ]
  },
  {
   "cell_type": "code",
   "execution_count": 59,
   "id": "animated-norway",
   "metadata": {},
   "outputs": [],
   "source": [
    "positions   = binance.fapiPrivate_get_positionrisk()"
   ]
  },
  {
   "cell_type": "code",
   "execution_count": 52,
   "id": "explicit-option",
   "metadata": {},
   "outputs": [
    {
     "data": {
      "text/plain": [
       "93"
      ]
     },
     "execution_count": 52,
     "metadata": {},
     "output_type": "execute_result"
    }
   ],
   "source": [
    "len(positions)"
   ]
  },
  {
   "cell_type": "code",
   "execution_count": 53,
   "id": "southern-andrew",
   "metadata": {},
   "outputs": [],
   "source": [
    "  tickers = [\"BTCUSDT\",\"ETHUSDT\",\"UNIUSDT\",\"LINKUSDT\",\"BCHUSDT\",\"LTCUSDT\",\"BNBUSDT\",\"ADAUSDT\",\"EOSUSDT\",\"DOTUSDT\"]"
   ]
  },
  {
   "cell_type": "code",
   "execution_count": 55,
   "id": "daily-november",
   "metadata": {},
   "outputs": [
    {
     "name": "stdout",
     "output_type": "stream",
     "text": [
      "symbol BTCUSDT  ticker =  BTCUSDT i = 64\n",
      "  entryPrice =  57842.62656\n",
      "  liquidationPrice =  46560.87518111\n",
      "symbol ETHUSDT  ticker =  ETHUSDT i = 30\n",
      "  entryPrice =  0.00000\n",
      "  liquidationPrice =  0\n",
      "symbol UNIUSDT  ticker =  UNIUSDT i = 54\n",
      "  entryPrice =  0.0000\n",
      "  liquidationPrice =  0\n",
      "symbol LINKUSDT  ticker =  LINKUSDT i = 58\n",
      "  entryPrice =  0.00000\n",
      "  liquidationPrice =  0\n",
      "symbol BCHUSDT  ticker =  BCHUSDT i = 19\n",
      "  entryPrice =  0.00000\n",
      "  liquidationPrice =  0\n",
      "symbol LTCUSDT  ticker =  LTCUSDT i = 73\n",
      "  entryPrice =  0.00000\n",
      "  liquidationPrice =  0\n",
      "symbol BNBUSDT  ticker =  BNBUSDT i = 21\n",
      "  entryPrice =  0.00000\n",
      "  liquidationPrice =  0\n",
      "symbol ADAUSDT  ticker =  ADAUSDT i = 16\n",
      "  entryPrice =  0.00000\n",
      "  liquidationPrice =  0\n",
      "symbol EOSUSDT  ticker =  EOSUSDT i = 0\n",
      "  entryPrice =  0.0000\n",
      "  liquidationPrice =  0\n",
      "symbol DOTUSDT  ticker =  DOTUSDT i = 80\n",
      "  entryPrice =  0.0000\n",
      "  liquidationPrice =  0\n"
     ]
    }
   ],
   "source": [
    "for ticker in tickers:\n",
    "    for i in range(0,len(positions)):\n",
    "        if positions[i]['symbol']==ticker:\n",
    "            print('symbol',positions[i]['symbol'],\" ticker = \",ticker, \"i =\",i)\n",
    "            print(\"  entryPrice = \",positions[i]['entryPrice'])\n",
    "            print(\"  liquidationPrice = \",positions[i]['liquidationPrice'])"
   ]
  },
  {
   "cell_type": "code",
   "execution_count": 56,
   "id": "crazy-cotton",
   "metadata": {},
   "outputs": [
    {
     "data": {
      "text/plain": [
       "{'symbol': 'BTCUSDT',\n",
       " 'positionAmt': '0.127',\n",
       " 'entryPrice': '57842.62656',\n",
       " 'markPrice': '52289.34453870',\n",
       " 'unRealizedProfit': '-705.26681670',\n",
       " 'liquidationPrice': '46560.87518111',\n",
       " 'leverage': '5',\n",
       " 'maxNotionalValue': '50000000',\n",
       " 'marginType': 'isolated',\n",
       " 'isolatedMargin': '751.16853301',\n",
       " 'isAutoAddMargin': 'false',\n",
       " 'positionSide': 'BOTH',\n",
       " 'notional': '6640.74675641',\n",
       " 'isolatedWallet': '1456.43534971'}"
      ]
     },
     "execution_count": 56,
     "metadata": {},
     "output_type": "execute_result"
    }
   ],
   "source": [
    "positions[64]"
   ]
  },
  {
   "cell_type": "code",
   "execution_count": null,
   "id": "particular-medium",
   "metadata": {},
   "outputs": [],
   "source": []
  },
  {
   "cell_type": "code",
   "execution_count": 61,
   "id": "friendly-endorsement",
   "metadata": {},
   "outputs": [],
   "source": [
    "balance = binance.fetchBalance()"
   ]
  },
  {
   "cell_type": "code",
   "execution_count": 60,
   "id": "grave-boring",
   "metadata": {},
   "outputs": [
    {
     "name": "stdout",
     "output_type": "stream",
     "text": [
      "symbol BTCUSDT  ticker =  BTCUSDT i = 64\n",
      "  entryPrice =  57842.62656\n",
      "  liquidationPrice =  46560.87518111\n",
      "symbol ETHUSDT  ticker =  ETHUSDT i = 30\n",
      "  entryPrice =  0.00000\n",
      "  liquidationPrice =  0\n",
      "symbol UNIUSDT  ticker =  UNIUSDT i = 54\n",
      "  entryPrice =  0.0000\n",
      "  liquidationPrice =  0\n",
      "symbol LINKUSDT  ticker =  LINKUSDT i = 58\n",
      "  entryPrice =  0.00000\n",
      "  liquidationPrice =  0\n",
      "symbol BCHUSDT  ticker =  BCHUSDT i = 19\n",
      "  entryPrice =  0.00000\n",
      "  liquidationPrice =  0\n",
      "symbol LTCUSDT  ticker =  LTCUSDT i = 73\n",
      "  entryPrice =  0.00000\n",
      "  liquidationPrice =  0\n",
      "symbol BNBUSDT  ticker =  BNBUSDT i = 21\n",
      "  entryPrice =  0.00000\n",
      "  liquidationPrice =  0\n",
      "symbol ADAUSDT  ticker =  ADAUSDT i = 16\n",
      "  entryPrice =  0.00000\n",
      "  liquidationPrice =  0\n",
      "symbol EOSUSDT  ticker =  EOSUSDT i = 0\n",
      "  entryPrice =  0.0000\n",
      "  liquidationPrice =  0\n",
      "symbol DOTUSDT  ticker =  DOTUSDT i = 80\n",
      "  entryPrice =  0.0000\n",
      "  liquidationPrice =  0\n"
     ]
    }
   ],
   "source": [
    "for ticker in tickers:\n",
    "    for i in range(0,len(positions)):\n",
    "        if balance['info']['positions'][i]['symbol']==ticker:\n",
    "            print('symbol',positions[i]['symbol'],\" ticker = \",ticker, \"i =\",i)\n",
    "            print(\"  entryPrice = \",positions[i]['entryPrice'])\n",
    "            print(\"  liquidationPrice = \",positions[i]['liquidationPrice'])           "
   ]
  },
  {
   "cell_type": "code",
   "execution_count": 62,
   "id": "located-assets",
   "metadata": {},
   "outputs": [
    {
     "data": {
      "text/plain": [
       "{'symbol': 'BTCUSDT',\n",
       " 'initialMargin': '1335.54063600',\n",
       " 'maintMargin': '26.71081272',\n",
       " 'unrealizedProfit': '-668.31039312',\n",
       " 'positionInitialMargin': '1335.54063600',\n",
       " 'openOrderInitialMargin': '0',\n",
       " 'leverage': '5',\n",
       " 'isolated': True,\n",
       " 'entryPrice': '57842.62656',\n",
       " 'maxNotional': '50000000',\n",
       " 'positionSide': 'BOTH',\n",
       " 'positionAmt': '0.127',\n",
       " 'notional': '6677.70318000',\n",
       " 'isolatedWallet': '1456.43534971'}"
      ]
     },
     "execution_count": 62,
     "metadata": {},
     "output_type": "execute_result"
    }
   ],
   "source": [
    "balance['info']['positions'][64]"
   ]
  },
  {
   "cell_type": "code",
   "execution_count": null,
   "id": "accessory-joining",
   "metadata": {},
   "outputs": [],
   "source": []
  }
 ],
 "metadata": {
  "kernelspec": {
   "display_name": "Python 3",
   "language": "python",
   "name": "python3"
  },
  "language_info": {
   "codemirror_mode": {
    "name": "ipython",
    "version": 3
   },
   "file_extension": ".py",
   "mimetype": "text/x-python",
   "name": "python",
   "nbconvert_exporter": "python",
   "pygments_lexer": "ipython3",
   "version": "3.7.9"
  }
 },
 "nbformat": 4,
 "nbformat_minor": 5
}
